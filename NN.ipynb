{
  "nbformat": 4,
  "nbformat_minor": 0,
  "metadata": {
    "colab": {
      "provenance": [],
      "authorship_tag": "ABX9TyMoZ27yzNPkZbggGCbUEmuO",
      "include_colab_link": true
    },
    "kernelspec": {
      "name": "python3",
      "display_name": "Python 3"
    },
    "language_info": {
      "name": "python"
    }
  },
  "cells": [
    {
      "cell_type": "markdown",
      "metadata": {
        "id": "view-in-github",
        "colab_type": "text"
      },
      "source": [
        "<a href=\"https://colab.research.google.com/github/AjayKumar-AK/Spammer/blob/main/NN.ipynb\" target=\"_parent\"><img src=\"https://colab.research.google.com/assets/colab-badge.svg\" alt=\"Open In Colab\"/></a>"
      ]
    },
    {
      "cell_type": "markdown",
      "source": [
        "ARTIFICIAL NEURAL NETWORK\n",
        "\n",
        "Importing the necessary libraries."
      ],
      "metadata": {
        "id": "f7UEmHFQzJ14"
      }
    },
    {
      "cell_type": "code",
      "source": [
        "import pandas as pd\n",
        "from keras.models import Sequential\n",
        "from keras.layers import Dense\n",
        "from sklearn.model_selection import train_test_split\n",
        "from sklearn.model_selection import cross_val_score\n",
        "from sklearn.model_selection import KFold\n",
        "from sklearn.pipeline import Pipeline"
      ],
      "metadata": {
        "id": "RHugVPLdy-1p"
      },
      "execution_count": null,
      "outputs": []
    },
    {
      "cell_type": "markdown",
      "source": [
        "Loading the datasets"
      ],
      "metadata": {
        "id": "C_VR7unTzI4I"
      }
    },
    {
      "cell_type": "code",
      "source": [
        "df1 = pd.read_csv(\"porosity.csv\")\n",
        "df2 = pd.read_csv(\"vickerHT.csv\")\n",
        "df3 = pd.read_csv(\"yeildS.csv\")\n",
        "df4 = pd.read_csv(\"youngsM.csv\")\n",
        "df5 = pd.read_csv(\"UST.csv\")"
      ],
      "metadata": {
        "id": "w-JadU0u0d-Q"
      },
      "execution_count": null,
      "outputs": []
    },
    {
      "cell_type": "markdown",
      "source": [
        "spliting the inputs and output variables as X and Y respectively"
      ],
      "metadata": {
        "id": "YCor-Xtr1_xH"
      }
    },
    {
      "cell_type": "code",
      "source": [
        "x1=df1.iloc[:,:-1]#input variables \"iloc\" fn helps us to locate the dataset...\n",
        "x2=df2.iloc[:,:-1]#...as [rows[],columns[]]\n",
        "x3=df3.iloc[:,:-1]\n",
        "x4=df4.iloc[:,:-1]\n",
        "x5=df5.iloc[:,:-1]\n",
        "y1=df1.iloc[:,-1]\n",
        "y2=df2.iloc[:,-1]\n",
        "y3=df3.iloc[:,-1]\n",
        "y4=df4.iloc[:,-1]\n",
        "y5=df5.iloc[:,-1]"
      ],
      "metadata": {
        "id": "ub52aHPA1_cH"
      },
      "execution_count": null,
      "outputs": []
    },
    {
      "cell_type": "markdown",
      "source": [
        "Train test split"
      ],
      "metadata": {
        "id": "scNxDPMA4Ggi"
      }
    },
    {
      "cell_type": "code",
      "source": [
        "x1_train,x1_test,y1_train,y1_test=train_test_split(x1,y1,test_size=0.2,random_state=20)\n",
        "x2_train,x2_test,y2_train,y2_test=train_test_split(x1,y1,test_size=0.2,random_state=20)\n",
        "x3_train,x3_test,y3_train,y3_test=train_test_split(x1,y1,test_size=0.2,random_state=20)\n",
        "x4_train,x4_test,y4_train,y4_test=train_test_split(x1,y1,test_size=0.2,random_state=20)\n",
        "x5_train,x5_test,y5_train,y5_test=train_test_split(x1,y1,test_size=0.2,random_state=20)"
      ],
      "metadata": {
        "id": "nLdxGGz34GUI"
      },
      "execution_count": null,
      "outputs": []
    },
    {
      "cell_type": "markdown",
      "source": [
        "SCALING THE DATA TO NEUTRALIZE THE WEIGHTAGE OF THE DATASET VALUES OTHERWISE THE MODEL MAY FAIL."
      ],
      "metadata": {
        "id": "nnsuwfpm8H4i"
      }
    },
    {
      "cell_type": "code",
      "source": [
        "from sklearn.preprocessing import StandardScaler\n",
        "scaler=StandardScaler()\n",
        "scaler.fit(x1_train)\n",
        "scaler.fit(x2_train)\n",
        "scaler.fit(x3_train)\n",
        "scaler.fit(x4_train)\n",
        "scaler.fit(x5_train)\n",
        "x1_train_scaled=scaler.transform(x1_train)\n",
        "x2_train_scaled=scaler.transform(x2_train)\n",
        "x3_train_scaled=scaler.transform(x3_train)\n",
        "x4_train_scaled=scaler.transform(x4_train)\n",
        "x5_train_scaled=scaler.transform(x5_train)\n",
        "x1_test_scaled=scaler.transform(x1_test)\n",
        "x2_test_scaled=scaler.transform(x2_test)\n",
        "x3_test_scaled=scaler.transform(x3_test)\n",
        "x4_test_scaled=scaler.transform(x4_test)\n",
        "x5_test_scaled=scaler.transform(x5_test)"
      ],
      "metadata": {
        "id": "A9NBAAlj9g1s"
      },
      "execution_count": null,
      "outputs": []
    },
    {
      "cell_type": "markdown",
      "source": [
        "DEFINING THE MODEL (ANN)\n",
        "for Dense layer\n",
        "  Input shape:    \n",
        "  The most common situation would be\n",
        "  a 2D input with shape (batch_size, input_dim).\n",
        "  ______________________________________\n",
        "  Output shape:  \n",
        "   for a 2D input with shape (batch_size, input_dim),\n",
        "   \n",
        "  the output would have shape (batch_size, units)."
      ],
      "metadata": {
        "id": "qdVGJjbu_GT5"
      }
    },
    {
      "cell_type": "code",
      "source": [
        "model = Sequential()\n",
        "model.add(Dense(140,input_dim=5,activation='relu'))\n",
        "model.add(Dense(64,activation='relu'))\n",
        "#for output\n",
        "model.add(Dense(1,activation='linear'))\n",
        "model.compile(loss='mean_squared_error',optimizer= 'adam',metrics=['mae'])#mean absolute error\n",
        "model.summary()"
      ],
      "metadata": {
        "colab": {
          "base_uri": "https://localhost:8080/"
        },
        "id": "fEJTSULc_HLj",
        "outputId": "9bb9abd2-cc61-4531-8dea-e126c3d1b25a"
      },
      "execution_count": null,
      "outputs": [
        {
          "output_type": "stream",
          "name": "stdout",
          "text": [
            "Model: \"sequential_6\"\n",
            "_________________________________________________________________\n",
            " Layer (type)                Output Shape              Param #   \n",
            "=================================================================\n",
            " dense_18 (Dense)            (None, 140)               840       \n",
            "                                                                 \n",
            " dense_19 (Dense)            (None, 64)                9024      \n",
            "                                                                 \n",
            " dense_20 (Dense)            (None, 1)                 65        \n",
            "                                                                 \n",
            "=================================================================\n",
            "Total params: 9929 (38.79 KB)\n",
            "Trainable params: 9929 (38.79 KB)\n",
            "Non-trainable params: 0 (0.00 Byte)\n",
            "_________________________________________________________________\n"
          ]
        }
      ]
    },
    {
      "cell_type": "markdown",
      "source": [
        "fitting the values in the model to train the model using scaled training data set.\n",
        "\n",
        "explanations :\n",
        "\n",
        "epochs are hyperparameters refering to one complete pass through the entire training dataset during the training phase.\n",
        "\n",
        "During each epoch, the model iteratively adjusts its parameters (weights and biases) using an optimization algorithm (such as gradient descent or adam in this example) in order to minimize the difference between predicted outputs and actual targets."
      ],
      "metadata": {
        "id": "KiU7ZBTmEIOq"
      }
    },
    {
      "cell_type": "code",
      "source": [
        "history = model.fit(x1_train_scaled,y1_train,validation_split=0.3,epochs=200)"
      ],
      "metadata": {
        "id": "FnQDBc5FC4Ti",
        "colab": {
          "base_uri": "https://localhost:8080/"
        },
        "outputId": "7f746ff1-1377-4320-b3ec-cfbf47cad7b4"
      },
      "execution_count": null,
      "outputs": [
        {
          "output_type": "stream",
          "name": "stdout",
          "text": [
            "Epoch 1/200\n",
            "2/2 [==============================] - 1s 206ms/step - loss: 12.9746 - mae: 2.1732 - val_loss: 21.3504 - val_mae: 2.4043\n",
            "Epoch 2/200\n",
            "2/2 [==============================] - 0s 36ms/step - loss: 12.3547 - mae: 2.0333 - val_loss: 20.8673 - val_mae: 2.3138\n",
            "Epoch 3/200\n",
            "2/2 [==============================] - 0s 33ms/step - loss: 11.8392 - mae: 1.9208 - val_loss: 20.4311 - val_mae: 2.2496\n",
            "Epoch 4/200\n",
            "2/2 [==============================] - 0s 37ms/step - loss: 11.4441 - mae: 1.8431 - val_loss: 20.0293 - val_mae: 2.2029\n",
            "Epoch 5/200\n",
            "2/2 [==============================] - 0s 57ms/step - loss: 11.0748 - mae: 1.7933 - val_loss: 19.6839 - val_mae: 2.1886\n",
            "Epoch 6/200\n",
            "2/2 [==============================] - 0s 53ms/step - loss: 10.7554 - mae: 1.7547 - val_loss: 19.3776 - val_mae: 2.1814\n",
            "Epoch 7/200\n",
            "2/2 [==============================] - 0s 64ms/step - loss: 10.4772 - mae: 1.7345 - val_loss: 19.0934 - val_mae: 2.1740\n",
            "Epoch 8/200\n",
            "2/2 [==============================] - 0s 52ms/step - loss: 10.2228 - mae: 1.7225 - val_loss: 18.8451 - val_mae: 2.1647\n",
            "Epoch 9/200\n",
            "2/2 [==============================] - 0s 52ms/step - loss: 9.9922 - mae: 1.7069 - val_loss: 18.6121 - val_mae: 2.1537\n",
            "Epoch 10/200\n",
            "2/2 [==============================] - 0s 42ms/step - loss: 9.7793 - mae: 1.6920 - val_loss: 18.3865 - val_mae: 2.1442\n",
            "Epoch 11/200\n",
            "2/2 [==============================] - 0s 53ms/step - loss: 9.5518 - mae: 1.6745 - val_loss: 18.1532 - val_mae: 2.1352\n",
            "Epoch 12/200\n",
            "2/2 [==============================] - 0s 51ms/step - loss: 9.3355 - mae: 1.6581 - val_loss: 17.9047 - val_mae: 2.1255\n",
            "Epoch 13/200\n",
            "2/2 [==============================] - 0s 35ms/step - loss: 9.0944 - mae: 1.6468 - val_loss: 17.6759 - val_mae: 2.1168\n",
            "Epoch 14/200\n",
            "2/2 [==============================] - 0s 51ms/step - loss: 8.8725 - mae: 1.6356 - val_loss: 17.4636 - val_mae: 2.1082\n",
            "Epoch 15/200\n",
            "2/2 [==============================] - 0s 34ms/step - loss: 8.6513 - mae: 1.6224 - val_loss: 17.2303 - val_mae: 2.0986\n",
            "Epoch 16/200\n",
            "2/2 [==============================] - 0s 35ms/step - loss: 8.4196 - mae: 1.6102 - val_loss: 16.9503 - val_mae: 2.0875\n",
            "Epoch 17/200\n",
            "2/2 [==============================] - 0s 34ms/step - loss: 8.1595 - mae: 1.5997 - val_loss: 16.6650 - val_mae: 2.0806\n",
            "Epoch 18/200\n",
            "2/2 [==============================] - 0s 51ms/step - loss: 7.8600 - mae: 1.5851 - val_loss: 16.3798 - val_mae: 2.0862\n",
            "Epoch 19/200\n",
            "2/2 [==============================] - 0s 51ms/step - loss: 7.6029 - mae: 1.5747 - val_loss: 16.0992 - val_mae: 2.0916\n",
            "Epoch 20/200\n",
            "2/2 [==============================] - 0s 63ms/step - loss: 7.3282 - mae: 1.5569 - val_loss: 15.8366 - val_mae: 2.0962\n",
            "Epoch 21/200\n",
            "2/2 [==============================] - 0s 40ms/step - loss: 7.0769 - mae: 1.5415 - val_loss: 15.5589 - val_mae: 2.0990\n",
            "Epoch 22/200\n",
            "2/2 [==============================] - 0s 39ms/step - loss: 6.8576 - mae: 1.5355 - val_loss: 15.2900 - val_mae: 2.1011\n",
            "Epoch 23/200\n",
            "2/2 [==============================] - 0s 34ms/step - loss: 6.6234 - mae: 1.5234 - val_loss: 15.0955 - val_mae: 2.1030\n",
            "Epoch 24/200\n",
            "2/2 [==============================] - 0s 34ms/step - loss: 6.4393 - mae: 1.5101 - val_loss: 14.9625 - val_mae: 2.1045\n",
            "Epoch 25/200\n",
            "2/2 [==============================] - 0s 64ms/step - loss: 6.2863 - mae: 1.4967 - val_loss: 14.7976 - val_mae: 2.1046\n",
            "Epoch 26/200\n",
            "2/2 [==============================] - 0s 36ms/step - loss: 6.1436 - mae: 1.4867 - val_loss: 14.5875 - val_mae: 2.1031\n",
            "Epoch 27/200\n",
            "2/2 [==============================] - 0s 36ms/step - loss: 5.9758 - mae: 1.4779 - val_loss: 14.3849 - val_mae: 2.1003\n",
            "Epoch 28/200\n",
            "2/2 [==============================] - 0s 55ms/step - loss: 5.8289 - mae: 1.4710 - val_loss: 14.2480 - val_mae: 2.0971\n",
            "Epoch 29/200\n",
            "2/2 [==============================] - 0s 32ms/step - loss: 5.7070 - mae: 1.4616 - val_loss: 14.1765 - val_mae: 2.0940\n",
            "Epoch 30/200\n",
            "2/2 [==============================] - 0s 30ms/step - loss: 5.6164 - mae: 1.4554 - val_loss: 14.1043 - val_mae: 2.0901\n",
            "Epoch 31/200\n",
            "2/2 [==============================] - 0s 30ms/step - loss: 5.5290 - mae: 1.4488 - val_loss: 13.9797 - val_mae: 2.0849\n",
            "Epoch 32/200\n",
            "2/2 [==============================] - 0s 30ms/step - loss: 5.4177 - mae: 1.4412 - val_loss: 13.7757 - val_mae: 2.0781\n",
            "Epoch 33/200\n",
            "2/2 [==============================] - 0s 30ms/step - loss: 5.2889 - mae: 1.4351 - val_loss: 13.5442 - val_mae: 2.0683\n",
            "Epoch 34/200\n",
            "2/2 [==============================] - 0s 35ms/step - loss: 5.1488 - mae: 1.4247 - val_loss: 13.3313 - val_mae: 2.0564\n",
            "Epoch 35/200\n",
            "2/2 [==============================] - 0s 30ms/step - loss: 5.0305 - mae: 1.4087 - val_loss: 13.1177 - val_mae: 2.0447\n",
            "Epoch 36/200\n",
            "2/2 [==============================] - 0s 35ms/step - loss: 4.9373 - mae: 1.4006 - val_loss: 12.9889 - val_mae: 2.0348\n",
            "Epoch 37/200\n",
            "2/2 [==============================] - 0s 50ms/step - loss: 4.8572 - mae: 1.3889 - val_loss: 12.9646 - val_mae: 2.0302\n",
            "Epoch 38/200\n",
            "2/2 [==============================] - 0s 36ms/step - loss: 4.8000 - mae: 1.3810 - val_loss: 12.9686 - val_mae: 2.0279\n",
            "Epoch 39/200\n",
            "2/2 [==============================] - 0s 33ms/step - loss: 4.7496 - mae: 1.3766 - val_loss: 12.9853 - val_mae: 2.0240\n",
            "Epoch 40/200\n",
            "2/2 [==============================] - 0s 32ms/step - loss: 4.7194 - mae: 1.3755 - val_loss: 12.9519 - val_mae: 2.0196\n",
            "Epoch 41/200\n",
            "2/2 [==============================] - 0s 34ms/step - loss: 4.6552 - mae: 1.3693 - val_loss: 12.8315 - val_mae: 2.0158\n",
            "Epoch 42/200\n",
            "2/2 [==============================] - 0s 33ms/step - loss: 4.5745 - mae: 1.3613 - val_loss: 12.6733 - val_mae: 2.0110\n",
            "Epoch 43/200\n",
            "2/2 [==============================] - 0s 32ms/step - loss: 4.4797 - mae: 1.3504 - val_loss: 12.5274 - val_mae: 2.0036\n",
            "Epoch 44/200\n",
            "2/2 [==============================] - 0s 33ms/step - loss: 4.4031 - mae: 1.3420 - val_loss: 12.3828 - val_mae: 1.9908\n",
            "Epoch 45/200\n",
            "2/2 [==============================] - 0s 30ms/step - loss: 4.3331 - mae: 1.3356 - val_loss: 12.2289 - val_mae: 1.9761\n",
            "Epoch 46/200\n",
            "2/2 [==============================] - 0s 33ms/step - loss: 4.2744 - mae: 1.3310 - val_loss: 12.0505 - val_mae: 1.9638\n",
            "Epoch 47/200\n",
            "2/2 [==============================] - 0s 59ms/step - loss: 4.2307 - mae: 1.3332 - val_loss: 11.8739 - val_mae: 1.9517\n",
            "Epoch 48/200\n",
            "2/2 [==============================] - 0s 31ms/step - loss: 4.1960 - mae: 1.3346 - val_loss: 11.7238 - val_mae: 1.9391\n",
            "Epoch 49/200\n",
            "2/2 [==============================] - 0s 32ms/step - loss: 4.1759 - mae: 1.3351 - val_loss: 11.6023 - val_mae: 1.9269\n",
            "Epoch 50/200\n",
            "2/2 [==============================] - 0s 31ms/step - loss: 4.1650 - mae: 1.3326 - val_loss: 11.5865 - val_mae: 1.9183\n",
            "Epoch 51/200\n",
            "2/2 [==============================] - 0s 40ms/step - loss: 4.1463 - mae: 1.3257 - val_loss: 11.6426 - val_mae: 1.9127\n",
            "Epoch 52/200\n",
            "2/2 [==============================] - 0s 55ms/step - loss: 4.1262 - mae: 1.3159 - val_loss: 11.6855 - val_mae: 1.9155\n",
            "Epoch 53/200\n",
            "2/2 [==============================] - 0s 52ms/step - loss: 4.0929 - mae: 1.3028 - val_loss: 11.7269 - val_mae: 1.9230\n",
            "Epoch 54/200\n",
            "2/2 [==============================] - 0s 35ms/step - loss: 4.0526 - mae: 1.2943 - val_loss: 11.7580 - val_mae: 1.9266\n",
            "Epoch 55/200\n",
            "2/2 [==============================] - 0s 37ms/step - loss: 4.0205 - mae: 1.2825 - val_loss: 11.7651 - val_mae: 1.9256\n",
            "Epoch 56/200\n",
            "2/2 [==============================] - 0s 53ms/step - loss: 3.9930 - mae: 1.2727 - val_loss: 11.7545 - val_mae: 1.9237\n",
            "Epoch 57/200\n",
            "2/2 [==============================] - 0s 36ms/step - loss: 3.9655 - mae: 1.2638 - val_loss: 11.7521 - val_mae: 1.9215\n",
            "Epoch 58/200\n",
            "2/2 [==============================] - 0s 55ms/step - loss: 3.9550 - mae: 1.2589 - val_loss: 11.7339 - val_mae: 1.9198\n",
            "Epoch 59/200\n",
            "2/2 [==============================] - 0s 56ms/step - loss: 3.9263 - mae: 1.2544 - val_loss: 11.7622 - val_mae: 1.9234\n",
            "Epoch 60/200\n",
            "2/2 [==============================] - 0s 54ms/step - loss: 3.9068 - mae: 1.2500 - val_loss: 11.8439 - val_mae: 1.9302\n",
            "Epoch 61/200\n",
            "2/2 [==============================] - 0s 45ms/step - loss: 3.8903 - mae: 1.2456 - val_loss: 11.8643 - val_mae: 1.9349\n",
            "Epoch 62/200\n",
            "2/2 [==============================] - 0s 55ms/step - loss: 3.8817 - mae: 1.2430 - val_loss: 11.8504 - val_mae: 1.9379\n",
            "Epoch 63/200\n",
            "2/2 [==============================] - 0s 55ms/step - loss: 3.8763 - mae: 1.2407 - val_loss: 11.6318 - val_mae: 1.9257\n",
            "Epoch 64/200\n",
            "2/2 [==============================] - 0s 36ms/step - loss: 3.8662 - mae: 1.2424 - val_loss: 11.2423 - val_mae: 1.8979\n",
            "Epoch 65/200\n",
            "2/2 [==============================] - 0s 65ms/step - loss: 3.8669 - mae: 1.2521 - val_loss: 10.9317 - val_mae: 1.8733\n",
            "Epoch 66/200\n",
            "2/2 [==============================] - 0s 33ms/step - loss: 3.8752 - mae: 1.2620 - val_loss: 10.6875 - val_mae: 1.8629\n",
            "Epoch 67/200\n",
            "2/2 [==============================] - 0s 36ms/step - loss: 3.8814 - mae: 1.2684 - val_loss: 10.4953 - val_mae: 1.8538\n",
            "Epoch 68/200\n",
            "2/2 [==============================] - 0s 37ms/step - loss: 3.8831 - mae: 1.2710 - val_loss: 10.3460 - val_mae: 1.8456\n",
            "Epoch 69/200\n",
            "2/2 [==============================] - 0s 37ms/step - loss: 3.8789 - mae: 1.2707 - val_loss: 10.2369 - val_mae: 1.8377\n",
            "Epoch 70/200\n",
            "2/2 [==============================] - 0s 36ms/step - loss: 3.8539 - mae: 1.2651 - val_loss: 10.1796 - val_mae: 1.8308\n",
            "Epoch 71/200\n",
            "2/2 [==============================] - 0s 37ms/step - loss: 3.8085 - mae: 1.2568 - val_loss: 10.1635 - val_mae: 1.8249\n",
            "Epoch 72/200\n",
            "2/2 [==============================] - 0s 58ms/step - loss: 3.7673 - mae: 1.2475 - val_loss: 10.1465 - val_mae: 1.8237\n",
            "Epoch 73/200\n",
            "2/2 [==============================] - 0s 56ms/step - loss: 3.7383 - mae: 1.2409 - val_loss: 10.1256 - val_mae: 1.8277\n",
            "Epoch 74/200\n",
            "2/2 [==============================] - 0s 39ms/step - loss: 3.7249 - mae: 1.2358 - val_loss: 10.1121 - val_mae: 1.8281\n",
            "Epoch 75/200\n",
            "2/2 [==============================] - 0s 35ms/step - loss: 3.7094 - mae: 1.2289 - val_loss: 10.1190 - val_mae: 1.8294\n",
            "Epoch 76/200\n",
            "2/2 [==============================] - 0s 36ms/step - loss: 3.6939 - mae: 1.2217 - val_loss: 9.9563 - val_mae: 1.8195\n",
            "Epoch 77/200\n",
            "2/2 [==============================] - 0s 56ms/step - loss: 3.6892 - mae: 1.2210 - val_loss: 9.6565 - val_mae: 1.7965\n",
            "Epoch 78/200\n",
            "2/2 [==============================] - 0s 36ms/step - loss: 3.7164 - mae: 1.2321 - val_loss: 9.4810 - val_mae: 1.7801\n",
            "Epoch 79/200\n",
            "2/2 [==============================] - 0s 55ms/step - loss: 3.7117 - mae: 1.2322 - val_loss: 9.4022 - val_mae: 1.7714\n",
            "Epoch 80/200\n",
            "2/2 [==============================] - 0s 53ms/step - loss: 3.6999 - mae: 1.2286 - val_loss: 9.3355 - val_mae: 1.7664\n",
            "Epoch 81/200\n",
            "2/2 [==============================] - 0s 35ms/step - loss: 3.6905 - mae: 1.2260 - val_loss: 9.1204 - val_mae: 1.7525\n",
            "Epoch 82/200\n",
            "2/2 [==============================] - 0s 35ms/step - loss: 3.7352 - mae: 1.2373 - val_loss: 8.8303 - val_mae: 1.7340\n",
            "Epoch 83/200\n",
            "2/2 [==============================] - 0s 35ms/step - loss: 3.8082 - mae: 1.2528 - val_loss: 8.6889 - val_mae: 1.7273\n",
            "Epoch 84/200\n",
            "2/2 [==============================] - 0s 46ms/step - loss: 3.8252 - mae: 1.2552 - val_loss: 8.6662 - val_mae: 1.7305\n",
            "Epoch 85/200\n",
            "2/2 [==============================] - 0s 34ms/step - loss: 3.8100 - mae: 1.2516 - val_loss: 8.6562 - val_mae: 1.7357\n",
            "Epoch 86/200\n",
            "2/2 [==============================] - 0s 34ms/step - loss: 3.7949 - mae: 1.2449 - val_loss: 8.6383 - val_mae: 1.7400\n",
            "Epoch 87/200\n",
            "2/2 [==============================] - 0s 34ms/step - loss: 3.7982 - mae: 1.2406 - val_loss: 8.6458 - val_mae: 1.7486\n",
            "Epoch 88/200\n",
            "2/2 [==============================] - 0s 34ms/step - loss: 3.7959 - mae: 1.2407 - val_loss: 8.6718 - val_mae: 1.7592\n",
            "Epoch 89/200\n",
            "2/2 [==============================] - 0s 36ms/step - loss: 3.7895 - mae: 1.2453 - val_loss: 8.7714 - val_mae: 1.7736\n",
            "Epoch 90/200\n",
            "2/2 [==============================] - 0s 43ms/step - loss: 3.7524 - mae: 1.2433 - val_loss: 8.9124 - val_mae: 1.7867\n",
            "Epoch 91/200\n",
            "2/2 [==============================] - 0s 33ms/step - loss: 3.6935 - mae: 1.2360 - val_loss: 9.0115 - val_mae: 1.7869\n",
            "Epoch 92/200\n",
            "2/2 [==============================] - 0s 51ms/step - loss: 3.6417 - mae: 1.2274 - val_loss: 9.0903 - val_mae: 1.7819\n",
            "Epoch 93/200\n",
            "2/2 [==============================] - 0s 35ms/step - loss: 3.5978 - mae: 1.2140 - val_loss: 9.1554 - val_mae: 1.7751\n",
            "Epoch 94/200\n",
            "2/2 [==============================] - 0s 52ms/step - loss: 3.5612 - mae: 1.1997 - val_loss: 9.2021 - val_mae: 1.7702\n",
            "Epoch 95/200\n",
            "2/2 [==============================] - 0s 40ms/step - loss: 3.5288 - mae: 1.1791 - val_loss: 9.2388 - val_mae: 1.7646\n",
            "Epoch 96/200\n",
            "2/2 [==============================] - 0s 36ms/step - loss: 3.5015 - mae: 1.1574 - val_loss: 9.3016 - val_mae: 1.7612\n",
            "Epoch 97/200\n",
            "2/2 [==============================] - 0s 52ms/step - loss: 3.4801 - mae: 1.1453 - val_loss: 9.3832 - val_mae: 1.7595\n",
            "Epoch 98/200\n",
            "2/2 [==============================] - 0s 34ms/step - loss: 3.4634 - mae: 1.1447 - val_loss: 9.5111 - val_mae: 1.7611\n",
            "Epoch 99/200\n",
            "2/2 [==============================] - 0s 34ms/step - loss: 3.4544 - mae: 1.1421 - val_loss: 9.6743 - val_mae: 1.7656\n",
            "Epoch 100/200\n",
            "2/2 [==============================] - 0s 34ms/step - loss: 3.4447 - mae: 1.1382 - val_loss: 9.7920 - val_mae: 1.7665\n",
            "Epoch 101/200\n",
            "2/2 [==============================] - 0s 34ms/step - loss: 3.4341 - mae: 1.1319 - val_loss: 9.8717 - val_mae: 1.7650\n",
            "Epoch 102/200\n",
            "2/2 [==============================] - 0s 41ms/step - loss: 3.4205 - mae: 1.1259 - val_loss: 9.9226 - val_mae: 1.7619\n",
            "Epoch 103/200\n",
            "2/2 [==============================] - 0s 53ms/step - loss: 3.4174 - mae: 1.1211 - val_loss: 9.7908 - val_mae: 1.7455\n",
            "Epoch 104/200\n",
            "2/2 [==============================] - 0s 41ms/step - loss: 3.3992 - mae: 1.1153 - val_loss: 9.5303 - val_mae: 1.7218\n",
            "Epoch 105/200\n",
            "2/2 [==============================] - 0s 51ms/step - loss: 3.3996 - mae: 1.1193 - val_loss: 9.3268 - val_mae: 1.7023\n",
            "Epoch 106/200\n",
            "2/2 [==============================] - 0s 35ms/step - loss: 3.4041 - mae: 1.1271 - val_loss: 9.1735 - val_mae: 1.6881\n",
            "Epoch 107/200\n",
            "2/2 [==============================] - 0s 52ms/step - loss: 3.4060 - mae: 1.1290 - val_loss: 9.0339 - val_mae: 1.6776\n",
            "Epoch 108/200\n",
            "2/2 [==============================] - 0s 39ms/step - loss: 3.4106 - mae: 1.1301 - val_loss: 8.9051 - val_mae: 1.6660\n",
            "Epoch 109/200\n",
            "2/2 [==============================] - 0s 54ms/step - loss: 3.4122 - mae: 1.1255 - val_loss: 8.7938 - val_mae: 1.6567\n",
            "Epoch 110/200\n",
            "2/2 [==============================] - 0s 52ms/step - loss: 3.4005 - mae: 1.1210 - val_loss: 8.6954 - val_mae: 1.6509\n",
            "Epoch 111/200\n",
            "2/2 [==============================] - 0s 53ms/step - loss: 3.3971 - mae: 1.1295 - val_loss: 8.6209 - val_mae: 1.6455\n",
            "Epoch 112/200\n",
            "2/2 [==============================] - 0s 51ms/step - loss: 3.3955 - mae: 1.1340 - val_loss: 8.5699 - val_mae: 1.6388\n",
            "Epoch 113/200\n",
            "2/2 [==============================] - 0s 53ms/step - loss: 3.3884 - mae: 1.1356 - val_loss: 8.5455 - val_mae: 1.6306\n",
            "Epoch 114/200\n",
            "2/2 [==============================] - 0s 38ms/step - loss: 3.3833 - mae: 1.1425 - val_loss: 8.5356 - val_mae: 1.6215\n",
            "Epoch 115/200\n",
            "2/2 [==============================] - 0s 54ms/step - loss: 3.3760 - mae: 1.1438 - val_loss: 8.5311 - val_mae: 1.6127\n",
            "Epoch 116/200\n",
            "2/2 [==============================] - 0s 37ms/step - loss: 3.3692 - mae: 1.1399 - val_loss: 8.5339 - val_mae: 1.6061\n",
            "Epoch 117/200\n",
            "2/2 [==============================] - 0s 51ms/step - loss: 3.3629 - mae: 1.1355 - val_loss: 8.5410 - val_mae: 1.6018\n",
            "Epoch 118/200\n",
            "2/2 [==============================] - 0s 56ms/step - loss: 3.3551 - mae: 1.1295 - val_loss: 8.5555 - val_mae: 1.5982\n",
            "Epoch 119/200\n",
            "2/2 [==============================] - 0s 38ms/step - loss: 3.3493 - mae: 1.1257 - val_loss: 8.6247 - val_mae: 1.5976\n",
            "Epoch 120/200\n",
            "2/2 [==============================] - 0s 34ms/step - loss: 3.3436 - mae: 1.1236 - val_loss: 8.7399 - val_mae: 1.6014\n",
            "Epoch 121/200\n",
            "2/2 [==============================] - 0s 39ms/step - loss: 3.3374 - mae: 1.1233 - val_loss: 8.8502 - val_mae: 1.6076\n",
            "Epoch 122/200\n",
            "2/2 [==============================] - 0s 44ms/step - loss: 3.3350 - mae: 1.1248 - val_loss: 8.9399 - val_mae: 1.6115\n",
            "Epoch 123/200\n",
            "2/2 [==============================] - 0s 52ms/step - loss: 3.3326 - mae: 1.1246 - val_loss: 9.0023 - val_mae: 1.6125\n",
            "Epoch 124/200\n",
            "2/2 [==============================] - 0s 34ms/step - loss: 3.3252 - mae: 1.1192 - val_loss: 9.0414 - val_mae: 1.6112\n",
            "Epoch 125/200\n",
            "2/2 [==============================] - 0s 36ms/step - loss: 3.3150 - mae: 1.1116 - val_loss: 9.0821 - val_mae: 1.6091\n",
            "Epoch 126/200\n",
            "2/2 [==============================] - 0s 53ms/step - loss: 3.3090 - mae: 1.1044 - val_loss: 9.1287 - val_mae: 1.6083\n",
            "Epoch 127/200\n",
            "2/2 [==============================] - 0s 37ms/step - loss: 3.3081 - mae: 1.1000 - val_loss: 9.1355 - val_mae: 1.6058\n",
            "Epoch 128/200\n",
            "2/2 [==============================] - 0s 62ms/step - loss: 3.3005 - mae: 1.0946 - val_loss: 9.1111 - val_mae: 1.6021\n",
            "Epoch 129/200\n",
            "2/2 [==============================] - 0s 34ms/step - loss: 3.2898 - mae: 1.0912 - val_loss: 9.0926 - val_mae: 1.5999\n",
            "Epoch 130/200\n",
            "2/2 [==============================] - 0s 52ms/step - loss: 3.2776 - mae: 1.0876 - val_loss: 9.0467 - val_mae: 1.5984\n",
            "Epoch 131/200\n",
            "2/2 [==============================] - 0s 37ms/step - loss: 3.2597 - mae: 1.0834 - val_loss: 8.9838 - val_mae: 1.5965\n",
            "Epoch 132/200\n",
            "2/2 [==============================] - 0s 36ms/step - loss: 3.2410 - mae: 1.0797 - val_loss: 8.9438 - val_mae: 1.5958\n",
            "Epoch 133/200\n",
            "2/2 [==============================] - 0s 38ms/step - loss: 3.2303 - mae: 1.0759 - val_loss: 8.9206 - val_mae: 1.5954\n",
            "Epoch 134/200\n",
            "2/2 [==============================] - 0s 37ms/step - loss: 3.2234 - mae: 1.0740 - val_loss: 8.9038 - val_mae: 1.5954\n",
            "Epoch 135/200\n",
            "2/2 [==============================] - 0s 35ms/step - loss: 3.2210 - mae: 1.0747 - val_loss: 8.8920 - val_mae: 1.5971\n",
            "Epoch 136/200\n",
            "2/2 [==============================] - 0s 34ms/step - loss: 3.2199 - mae: 1.0736 - val_loss: 8.8921 - val_mae: 1.6003\n",
            "Epoch 137/200\n",
            "2/2 [==============================] - 0s 34ms/step - loss: 3.2195 - mae: 1.0735 - val_loss: 8.8999 - val_mae: 1.6042\n",
            "Epoch 138/200\n",
            "2/2 [==============================] - 0s 37ms/step - loss: 3.2177 - mae: 1.0708 - val_loss: 8.9126 - val_mae: 1.6078\n",
            "Epoch 139/200\n",
            "2/2 [==============================] - 0s 53ms/step - loss: 3.2149 - mae: 1.0686 - val_loss: 8.9332 - val_mae: 1.6121\n",
            "Epoch 140/200\n",
            "2/2 [==============================] - 0s 52ms/step - loss: 3.2109 - mae: 1.0667 - val_loss: 8.9590 - val_mae: 1.6165\n",
            "Epoch 141/200\n",
            "2/2 [==============================] - 0s 42ms/step - loss: 3.2055 - mae: 1.0651 - val_loss: 8.9822 - val_mae: 1.6184\n",
            "Epoch 142/200\n",
            "2/2 [==============================] - 0s 54ms/step - loss: 3.1988 - mae: 1.0628 - val_loss: 9.0014 - val_mae: 1.6181\n",
            "Epoch 143/200\n",
            "2/2 [==============================] - 0s 37ms/step - loss: 3.1913 - mae: 1.0603 - val_loss: 9.0665 - val_mae: 1.6208\n",
            "Epoch 144/200\n",
            "2/2 [==============================] - 0s 31ms/step - loss: 3.1694 - mae: 1.0504 - val_loss: 9.1686 - val_mae: 1.6256\n",
            "Epoch 145/200\n",
            "2/2 [==============================] - 0s 31ms/step - loss: 3.1527 - mae: 1.0480 - val_loss: 9.2560 - val_mae: 1.6289\n",
            "Epoch 146/200\n",
            "2/2 [==============================] - 0s 30ms/step - loss: 3.1494 - mae: 1.0486 - val_loss: 9.3516 - val_mae: 1.6334\n",
            "Epoch 147/200\n",
            "2/2 [==============================] - 0s 32ms/step - loss: 3.1732 - mae: 1.0677 - val_loss: 9.4358 - val_mae: 1.6363\n",
            "Epoch 148/200\n",
            "2/2 [==============================] - 0s 32ms/step - loss: 3.1957 - mae: 1.0705 - val_loss: 9.4899 - val_mae: 1.6363\n",
            "Epoch 149/200\n",
            "2/2 [==============================] - 0s 35ms/step - loss: 3.2157 - mae: 1.0757 - val_loss: 9.5297 - val_mae: 1.6356\n",
            "Epoch 150/200\n",
            "2/2 [==============================] - 0s 34ms/step - loss: 3.2312 - mae: 1.0852 - val_loss: 9.5646 - val_mae: 1.6330\n",
            "Epoch 151/200\n",
            "2/2 [==============================] - 0s 36ms/step - loss: 3.2450 - mae: 1.0921 - val_loss: 9.6565 - val_mae: 1.6331\n",
            "Epoch 152/200\n",
            "2/2 [==============================] - 0s 33ms/step - loss: 3.2654 - mae: 1.0967 - val_loss: 9.7842 - val_mae: 1.6359\n",
            "Epoch 153/200\n",
            "2/2 [==============================] - 0s 33ms/step - loss: 3.2989 - mae: 1.1045 - val_loss: 9.6816 - val_mae: 1.6240\n",
            "Epoch 154/200\n",
            "2/2 [==============================] - 0s 33ms/step - loss: 3.2885 - mae: 1.1060 - val_loss: 9.3631 - val_mae: 1.6052\n",
            "Epoch 155/200\n",
            "2/2 [==============================] - 0s 33ms/step - loss: 3.2470 - mae: 1.0910 - val_loss: 9.0712 - val_mae: 1.5947\n",
            "Epoch 156/200\n",
            "2/2 [==============================] - 0s 50ms/step - loss: 3.1936 - mae: 1.0628 - val_loss: 8.8329 - val_mae: 1.5855\n",
            "Epoch 157/200\n",
            "2/2 [==============================] - 0s 32ms/step - loss: 3.1661 - mae: 1.0534 - val_loss: 8.6431 - val_mae: 1.5779\n",
            "Epoch 158/200\n",
            "2/2 [==============================] - 0s 34ms/step - loss: 3.1567 - mae: 1.0495 - val_loss: 8.4995 - val_mae: 1.5724\n",
            "Epoch 159/200\n",
            "2/2 [==============================] - 0s 34ms/step - loss: 3.1598 - mae: 1.0520 - val_loss: 8.3945 - val_mae: 1.5689\n",
            "Epoch 160/200\n",
            "2/2 [==============================] - 0s 32ms/step - loss: 3.1634 - mae: 1.0559 - val_loss: 8.3040 - val_mae: 1.5696\n",
            "Epoch 161/200\n",
            "2/2 [==============================] - 0s 33ms/step - loss: 3.1818 - mae: 1.0655 - val_loss: 8.2290 - val_mae: 1.5716\n",
            "Epoch 162/200\n",
            "2/2 [==============================] - 0s 32ms/step - loss: 3.2083 - mae: 1.0827 - val_loss: 8.1833 - val_mae: 1.5735\n",
            "Epoch 163/200\n",
            "2/2 [==============================] - 0s 46ms/step - loss: 3.2368 - mae: 1.0934 - val_loss: 8.2595 - val_mae: 1.5802\n",
            "Epoch 164/200\n",
            "2/2 [==============================] - 0s 33ms/step - loss: 3.2302 - mae: 1.0906 - val_loss: 8.4304 - val_mae: 1.5912\n",
            "Epoch 165/200\n",
            "2/2 [==============================] - 0s 32ms/step - loss: 3.1996 - mae: 1.0798 - val_loss: 8.5886 - val_mae: 1.6026\n",
            "Epoch 166/200\n",
            "2/2 [==============================] - 0s 41ms/step - loss: 3.1644 - mae: 1.0677 - val_loss: 8.7830 - val_mae: 1.6155\n",
            "Epoch 167/200\n",
            "2/2 [==============================] - 0s 52ms/step - loss: 3.1258 - mae: 1.0542 - val_loss: 9.0072 - val_mae: 1.6330\n",
            "Epoch 168/200\n",
            "2/2 [==============================] - 0s 37ms/step - loss: 3.0877 - mae: 1.0429 - val_loss: 9.1914 - val_mae: 1.6515\n",
            "Epoch 169/200\n",
            "2/2 [==============================] - 0s 40ms/step - loss: 3.0602 - mae: 1.0348 - val_loss: 9.3302 - val_mae: 1.6618\n",
            "Epoch 170/200\n",
            "2/2 [==============================] - 0s 38ms/step - loss: 3.0443 - mae: 1.0334 - val_loss: 9.4803 - val_mae: 1.6700\n",
            "Epoch 171/200\n",
            "2/2 [==============================] - 0s 36ms/step - loss: 3.0254 - mae: 1.0294 - val_loss: 9.6387 - val_mae: 1.6785\n",
            "Epoch 172/200\n",
            "2/2 [==============================] - 0s 54ms/step - loss: 3.0154 - mae: 1.0235 - val_loss: 9.7638 - val_mae: 1.6844\n",
            "Epoch 173/200\n",
            "2/2 [==============================] - 0s 36ms/step - loss: 3.0155 - mae: 1.0255 - val_loss: 9.8693 - val_mae: 1.6879\n",
            "Epoch 174/200\n",
            "2/2 [==============================] - 0s 72ms/step - loss: 3.0219 - mae: 1.0325 - val_loss: 10.0012 - val_mae: 1.6907\n",
            "Epoch 175/200\n",
            "2/2 [==============================] - 0s 58ms/step - loss: 3.0363 - mae: 1.0408 - val_loss: 10.1840 - val_mae: 1.6959\n",
            "Epoch 176/200\n",
            "2/2 [==============================] - 0s 65ms/step - loss: 3.0614 - mae: 1.0487 - val_loss: 10.4021 - val_mae: 1.7039\n",
            "Epoch 177/200\n",
            "2/2 [==============================] - 0s 72ms/step - loss: 3.1024 - mae: 1.0623 - val_loss: 10.6103 - val_mae: 1.7132\n",
            "Epoch 178/200\n",
            "2/2 [==============================] - 0s 59ms/step - loss: 3.1383 - mae: 1.0700 - val_loss: 10.7674 - val_mae: 1.7189\n",
            "Epoch 179/200\n",
            "2/2 [==============================] - 0s 52ms/step - loss: 3.1637 - mae: 1.0693 - val_loss: 10.8752 - val_mae: 1.7190\n",
            "Epoch 180/200\n",
            "2/2 [==============================] - 0s 69ms/step - loss: 3.1892 - mae: 1.0631 - val_loss: 10.7395 - val_mae: 1.7007\n",
            "Epoch 181/200\n",
            "2/2 [==============================] - 0s 75ms/step - loss: 3.1465 - mae: 1.0457 - val_loss: 10.4212 - val_mae: 1.6774\n",
            "Epoch 182/200\n",
            "2/2 [==============================] - 0s 66ms/step - loss: 3.0931 - mae: 1.0274 - val_loss: 10.1557 - val_mae: 1.6575\n",
            "Epoch 183/200\n",
            "2/2 [==============================] - 0s 72ms/step - loss: 3.0518 - mae: 1.0211 - val_loss: 9.9421 - val_mae: 1.6430\n",
            "Epoch 184/200\n",
            "2/2 [==============================] - 0s 70ms/step - loss: 3.0201 - mae: 1.0199 - val_loss: 9.7704 - val_mae: 1.6327\n",
            "Epoch 185/200\n",
            "2/2 [==============================] - 0s 55ms/step - loss: 2.9965 - mae: 1.0175 - val_loss: 9.6263 - val_mae: 1.6275\n",
            "Epoch 186/200\n",
            "2/2 [==============================] - 0s 55ms/step - loss: 2.9842 - mae: 1.0182 - val_loss: 9.5600 - val_mae: 1.6293\n",
            "Epoch 187/200\n",
            "2/2 [==============================] - 0s 68ms/step - loss: 2.9749 - mae: 1.0235 - val_loss: 9.6042 - val_mae: 1.6369\n",
            "Epoch 188/200\n",
            "2/2 [==============================] - 0s 46ms/step - loss: 2.9735 - mae: 1.0270 - val_loss: 9.6911 - val_mae: 1.6443\n",
            "Epoch 189/200\n",
            "2/2 [==============================] - 0s 49ms/step - loss: 2.9682 - mae: 1.0216 - val_loss: 9.7425 - val_mae: 1.6508\n",
            "Epoch 190/200\n",
            "2/2 [==============================] - 0s 55ms/step - loss: 2.9527 - mae: 1.0109 - val_loss: 9.7705 - val_mae: 1.6593\n",
            "Epoch 191/200\n",
            "2/2 [==============================] - 0s 69ms/step - loss: 2.9380 - mae: 1.0017 - val_loss: 9.8023 - val_mae: 1.6684\n",
            "Epoch 192/200\n",
            "2/2 [==============================] - 0s 51ms/step - loss: 2.9298 - mae: 1.0004 - val_loss: 9.8285 - val_mae: 1.6809\n",
            "Epoch 193/200\n",
            "2/2 [==============================] - 0s 48ms/step - loss: 2.9298 - mae: 1.0021 - val_loss: 9.8543 - val_mae: 1.6929\n",
            "Epoch 194/200\n",
            "2/2 [==============================] - 0s 80ms/step - loss: 2.9191 - mae: 0.9998 - val_loss: 9.8967 - val_mae: 1.7032\n",
            "Epoch 195/200\n",
            "2/2 [==============================] - 0s 72ms/step - loss: 2.9121 - mae: 1.0156 - val_loss: 9.9419 - val_mae: 1.7121\n",
            "Epoch 196/200\n",
            "2/2 [==============================] - 0s 68ms/step - loss: 2.9114 - mae: 1.0274 - val_loss: 9.9694 - val_mae: 1.7203\n",
            "Epoch 197/200\n",
            "2/2 [==============================] - 0s 52ms/step - loss: 2.9117 - mae: 1.0364 - val_loss: 9.9782 - val_mae: 1.7210\n",
            "Epoch 198/200\n",
            "2/2 [==============================] - 0s 68ms/step - loss: 2.9056 - mae: 1.0325 - val_loss: 9.9685 - val_mae: 1.7178\n",
            "Epoch 199/200\n",
            "2/2 [==============================] - 0s 64ms/step - loss: 2.8972 - mae: 1.0242 - val_loss: 9.9983 - val_mae: 1.7190\n",
            "Epoch 200/200\n",
            "2/2 [==============================] - 0s 71ms/step - loss: 2.8883 - mae: 1.0126 - val_loss: 10.0631 - val_mae: 1.7211\n"
          ]
        }
      ]
    },
    {
      "cell_type": "code",
      "source": [
        "out_vickerHT = model.fit(x2_train_scaled,y2_train,validation_split=0.2,epochs=105)"
      ],
      "metadata": {
        "id": "8FAkHVukE-0h"
      },
      "execution_count": null,
      "outputs": []
    },
    {
      "cell_type": "code",
      "source": [
        "out_yeildS = model.fit(x3_train_scaled,y3_train,validation_split=0.2,epochs=105)"
      ],
      "metadata": {
        "id": "ojrre3nVF7cU"
      },
      "execution_count": null,
      "outputs": []
    },
    {
      "cell_type": "code",
      "source": [
        "out_youngsM = model.fit(x4_train_scaled,y4_train,validation_split=0.2,epochs=105)"
      ],
      "metadata": {
        "id": "eeJthYcmF8Xs"
      },
      "execution_count": null,
      "outputs": []
    },
    {
      "cell_type": "code",
      "source": [
        "out_UST = model.fit(x5_train_scaled,y5_train,validation_split=0.2,epochs=105)"
      ],
      "metadata": {
        "id": "_p7B9qhsF9ct"
      },
      "execution_count": null,
      "outputs": []
    },
    {
      "cell_type": "markdown",
      "source": [
        "PLOTING THE GRAPH"
      ],
      "metadata": {
        "id": "niufg-5yGpS8"
      }
    },
    {
      "cell_type": "code",
      "source": [
        "from matplotlib import pyplot as plt\n",
        "\n",
        "loss = history.history['loss']\n",
        "val_loss= history.history['val_loss']\n",
        "epochs=range(1,len(loss)+1)\n",
        "plt.plot(epochs,loss,'y',label='training loss')\n",
        "plt.plot(epochs,val_loss,'r',label='validation loss')\n",
        "plt.xlabel('Epochs')\n",
        "plt.ylabel('Loss')\n",
        "plt.title('training and validation loss')\n",
        "plt.legend()\n",
        "plt.show()"
      ],
      "metadata": {
        "id": "j-XfnLrLGpHF",
        "colab": {
          "base_uri": "https://localhost:8080/",
          "height": 472
        },
        "outputId": "84d98fde-083f-4c91-f4d0-55037479bf3c"
      },
      "execution_count": null,
      "outputs": [
        {
          "output_type": "display_data",
          "data": {
            "text/plain": [
              "<Figure size 640x480 with 1 Axes>"
            ],
            "image/png": "[encoded data removed]"
          },
          "metadata": {}
        }
      ]
    },
    {
      "cell_type": "code",
      "source": [
        "from matplotlib import pyplot as plt\n",
        "\n",
        "mae = history.history['mae']\n",
        "val_mae= history.history['val_mae']\n",
        "epochs=range(1,len(loss)+1)\n",
        "plt.plot(epochs,mae,'y',label='training MAE')\n",
        "plt.plot(epochs,val_mae,'r',label='validation MAE')\n",
        "plt.xlabel('Epochs')\n",
        "plt.ylabel('MAE')\n",
        "plt.title('training and validation MAE')\n",
        "plt.legend()\n",
        "plt.show()"
      ],
      "metadata": {
        "colab": {
          "base_uri": "https://localhost:8080/",
          "height": 472
        },
        "id": "JoeP1TvLCyp5",
        "outputId": "4fc34d2f-1f61-4533-efb8-c8a4e130614e"
      },
      "execution_count": null,
      "outputs": [
        {
          "output_type": "display_data",
          "data": {
            "text/plain": [
              "<Figure size 640x480 with 1 Axes>"
            ],
            "image/png": "[encoded data removed]"
          },
          "metadata": {}
        }
      ]
    }
  ]
}